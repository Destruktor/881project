{
 "cells": [
  {
   "cell_type": "code",
   "execution_count": 2,
   "metadata": {
    "collapsed": true
   },
   "outputs": [],
   "source": [
    "usecols = ('Policy_Company', 'Policy_Installment_Term', 'Policy_Billing_Code', 'Policy_Method_Of_Payment', 'Policy_Reinstatement_Fee_Indicator', 'Policy_Zip_Code_Garaging_Location', 'Vehicle_Territory', 'Vehicle_Make_Year', 'Vehicle_Performance', 'Vehicle_New_Cost_Amount', 'Vehicle_Symbol', 'Vehicle_Number_Of_Drivers_Assigned', 'Vehicle_Usage', 'Vehicle_Miles_To_Work', 'Vehicle_Days_Per_Week_Driven', 'Vehicle_Anti_Theft_Device', 'Vehicle_Passive_Restraint', 'Vehicle_Age_In_Years', 'Vehicle_Med_Pay_Limit', 'Vehicle_Bodily_Injury_Limit', 'Vehicle_Physical_Damage_Limit', 'Vehicle_Comprehensive_Coverage_Indicator', 'Vehicle_Comprehensive_Coverage_Limit', 'Vehicle_Collision_Coverage_Indicator', 'Vehicle_Collision_Coverage_Deductible', 'Driver_Total', 'Driver_Total_Male', 'Driver_Total_Female', 'Driver_Total_Single', 'Driver_Total_Married', 'Driver_Total_Related_To_Insured_Self', 'Driver_Total_Related_To_Insured_Spouse', 'Driver_Total_Related_To_Insured_Child', 'Driver_Total_Licensed_In_State', 'Driver_Minimum_Age', 'Driver_Maximum_Age', 'Driver_Total_Teenager_Age_15_19', 'Driver_Total_College_Ages_20_23', 'Driver_Total_Young_Adult_Ages_24_29', 'Driver_Total_Low_Middle_Adult_Ages_30_39', 'Driver_Total_Middle_Adult_Ages_40_49', 'Driver_Total_Adult_Ages_50_64', 'Driver_Total_Senior_Ages_65_69', 'Driver_Total_Upper_Senior_Ages_70_plus', 'Vehicle_Youthful_Driver_Indicator', 'Vehicle_Youthful_Driver_Training_Code', 'Vehicle_Youthful_Good_Student_Code', 'Vehicle_Driver_Points', 'Vehicle_Safe_Driver_Discount_Indicator', 'EEA_Liability_Coverage_Only_Indicator', 'EEA_Multi_Auto_Policies_Indicator', 'EEA_Policy_Zip_Code_3', 'EEA_Policy_Tenure', 'EEA_Agency_Type', 'EEA_Packaged_Policy_Indicator', 'EEA_Full_Coverage_Indicator', 'EEA_Prior_Bodily_Injury_Limit', 'EEA_PolicyYear', 'SYS_Renewed', 'SYS_New_Business', 'Annual_Premium', 'Claim_Count', 'Loss_Amount', 'Frequency', 'Severity', 'Loss_Ratio')\n"
   ]
  },
  {
   "cell_type": "code",
   "execution_count": 3,
   "metadata": {
    "collapsed": false
   },
   "outputs": [
    {
     "name": "stdout",
     "output_type": "stream",
     "text": [
      "HI\n",
      "Importing data...\n",
      "Done importing!\n",
      "This time took  3.5172011852264404  seconds!\n"
     ]
    }
   ],
   "source": [
    "import numpy as np\n",
    "import time\n",
    "\n",
    "print(\"HI\")\n",
    "print(\"Importing data...\")\n",
    "try:\n",
    "    if elapsed_time:\n",
    "        print(\"Last time this took \", elapsed_time, \" seconds...\")\n",
    "except NameError:\n",
    "    pass\n",
    "start_time = time.time()\n",
    "data = np.genfromtxt('training_data_2016_claims_only.csv', \n",
    "                     delimiter=',',\n",
    "                     names=True,\n",
    "                     usecols=usecols,\n",
    "                     dtype=None,\n",
    "                     autostrip=True)\n",
    "\n",
    "elapsed_time = time.time() - start_time\n",
    "print(\"Done importing!\")\n",
    "print(\"This time took \", elapsed_time, \" seconds!\")\n"
   ]
  },
  {
   "cell_type": "code",
   "execution_count": null,
   "metadata": {
    "collapsed": false
   },
   "outputs": [],
   "source": [
    "n_values = []\n",
    "categorical_features = []\n",
    "print(data[0])\n",
    "print(data.dtype.names)"
   ]
  },
  {
   "cell_type": "code",
   "execution_count": 15,
   "metadata": {
    "collapsed": false
   },
   "outputs": [
    {
     "name": "stdout",
     "output_type": "stream",
     "text": [
      "[b'Preferred', b'Standard']\n",
      "[ 0.  0.  0. ...,  1.  1.  1.]\n"
     ]
    }
   ],
   "source": [
    "from sklearn import preprocessing\n",
    "from sklearn.preprocessing import Imputer\n",
    "\n",
    "# d_new = data['Policy_Installment_Term'].astype(int)\n",
    "# print(d_new.dtype)\n",
    "enc = preprocessing.LabelEncoder()\n",
    "\n",
    "data_enc = enc.fit(data['Policy_Company'])\n",
    "\n",
    "print(list(data_enc.classes_))\n",
    "\n",
    "train_data = enc.fit_transform(data['Policy_Company'])\n",
    "category_names_temp = ['Policy_Company']\n",
    "# need to grab only categorical columns\n",
    "categorical_columns = ['Policy_Installment_Term', 'Policy_Billing_Code', 'Policy_Method_Of_Payment', 'Policy_Reinstatement_Fee_Indicator', 'Vehicle_Performance', 'Vehicle_Number_Of_Drivers_Assigned', 'Vehicle_Usage', 'Vehicle_Annual_Miles', 'Vehicle_Anti_Theft_Device', 'Vehicle_Passive_Restraint', 'Vehicle_Med_Pay_Limit', 'Vehicle_Bodily_Injury_Limit', 'Vehicle_Physical_Damage_Limit', 'Vehicle_Comprehensive_Coverage_Indicator', 'Vehicle_Comprehensive_Coverage_Limit', 'Vehicle_Collision_Coverage_Indicator', 'Vehicle_Collision_Coverage_Deductible', 'Vehicle_Youthful_Driver_Indicator', 'Vehicle_Youthful_Driver_Training_Code', 'Vehicle_Youthful_Good_Student_Code', 'Vehicle_Safe_Driver_Discount_Indicator', 'EEA_Liability_Coverage_Only_Indicator', 'EEA_Multi_Auto_Policies_Indicator', 'EEA_Agency_Type', 'EEA_Packaged_Policy_Indicator', 'EEA_Full_Coverage_Indicator', 'EEA_Prior_Bodily_Injury_Limit', 'SYS_Renewed', 'SYS_New_Business']\n",
    "for name in data.dtype.names:\n",
    "#     print(name)\n",
    "#     data_enc = enc.fit_transform(data[name])\n",
    "#     print(data_enc)\n",
    "    if name == 'Policy_Company':\n",
    "        continue\n",
    "    category_names_temp.append(name)\n",
    "    if name in categorical_columns:\n",
    "        train_data = np.column_stack((train_data, enc.fit_transform(data[name])))\n",
    "    else:\n",
    "        train_data = np.column_stack((train_data, data[name]))\n",
    "# print (category_names_temp)\n",
    "# print(train_data)    \n",
    "# try_named = train_data.view(np.dtype( [(n, 'float64') for n in category_names_temp] ))\n",
    "ty = train_data.view(dtype=[(n, 'float64') for n in category_names_temp]).reshape(len(train_data))\n",
    "print (ty['Policy_Method_Of_Payment'])\n",
    "\n"
   ]
  },
  {
   "cell_type": "code",
   "execution_count": null,
   "metadata": {
    "collapsed": false
   },
   "outputs": [],
   "source": [
    "\n"
   ]
  },
  {
   "cell_type": "code",
   "execution_count": null,
   "metadata": {
    "collapsed": true
   },
   "outputs": [],
   "source": []
  }
 ],
 "metadata": {
  "anaconda-cloud": {},
  "kernelspec": {
   "display_name": "Python [conda root]",
   "language": "python",
   "name": "conda-root-py"
  },
  "language_info": {
   "codemirror_mode": {
    "name": "ipython",
    "version": 3
   },
   "file_extension": ".py",
   "mimetype": "text/x-python",
   "name": "python",
   "nbconvert_exporter": "python",
   "pygments_lexer": "ipython3",
   "version": "3.5.2"
  }
 },
 "nbformat": 4,
 "nbformat_minor": 1
}
