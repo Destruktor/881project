{
 "cells": [
  {
   "cell_type": "code",
   "execution_count": 57,
   "metadata": {
    "collapsed": false
   },
   "outputs": [],
   "source": [
    "from sklearn import preprocessing\n",
    "import numpy as np\n",
    "from numpy import genfromtxt\n",
    "import pandas as pd\n",
    "\n",
    "#my_data = genfromtxt('training_data_2016.csv', delimiter=',')\n",
    "#Data = np.asarray(my_data)\n",
    "#unique=np.unique(column(Data,2))\n",
    "#print(unique)\n",
    "\n",
    "Data = pd.read_csv('training_data_2016.csv',low_memory = False)\n",
    "Data.drop('Policy_Company', 1, inplace=True)\n",
    "Data.drop('Vehicle_Annual_Miles', 1, inplace=True)\n",
    "Data.drop('Vehicle_Comprehensive_Coverage_Limit', 1, inplace=True)\n",
    "Data.drop('Vehicle_Make_Description', 1, inplace=True)\n",
    "Data.drop('EEA_PolicyYear', 1, inplace=True)\n",
    "replacements = {\n",
    "   'Policy_Zip_Code_Garaging_Location': {\n",
    "      r'Unknown': 0,},\n",
    "#     'Vehicle_Miles_To_Work': {\n",
    "#       r'-1': np.nan,},\n",
    "    'Vehicle_Passive_Restraint': {\n",
    "      r'Unknown': 'Y',},\n",
    "#     'Vehicle_Med_Pay_Limit': {\n",
    "#       r'Unknown': np.nan,},\n",
    "    'EEA_Policy_Zip_Code_3': {\n",
    "        r'Unknown':0\n",
    "    }\n",
    "}\n",
    "\n",
    "Data.replace(replacements, regex=True, inplace=True)\n",
    "categorical_columns = ['Policy_Installment_Term', 'Policy_Billing_Code', 'Policy_Method_Of_Payment', 'Policy_Reinstatement_Fee_Indicator', 'Policy_Zip_Code_Garaging_Location', 'Vehicle_Performance', 'Vehicle_Number_Of_Drivers_Assigned', 'Vehicle_Usage', 'Vehicle_Anti_Theft_Device', 'Vehicle_Passive_Restraint', 'Vehicle_Med_Pay_Limit', 'Vehicle_Bodily_Injury_Limit', 'Vehicle_Physical_Damage_Limit', 'Vehicle_Comprehensive_Coverage_Indicator', 'Vehicle_Comprehensive_Coverage_Limit', 'Vehicle_Collision_Coverage_Indicator', 'Vehicle_Collision_Coverage_Deductible', 'Vehicle_Youthful_Driver_Indicator', 'Vehicle_Youthful_Driver_Training_Code', 'Vehicle_Youthful_Good_Student_Code', 'Vehicle_Safe_Driver_Discount_Indicator', 'EEA_Liability_Coverage_Only_Indicator', 'EEA_Multi_Auto_Policies_Indicator', 'EEA_Policy_Zip_Code_3', 'EEA_Agency_Type', 'EEA_Packaged_Policy_Indicator', 'EEA_Full_Coverage_Indicator', 'EEA_Prior_Bodily_Injury_Limit', 'SYS_Renewed', 'SYS_New_Business']\n",
    "\n",
    "for col in Data[1:]:\n",
    "    if col in categorical_columns:\n",
    "        Data[col] = Data[col].astype('category')\n",
    "#     print (Data[col].unique())\n",
    "#     print Data[col].columns\n",
    "#print Data[1].unique()\n",
    "#print list(Data.columns.values)\n",
    "#print(Data.head())\n",
    "cat_columns = Data.select_dtypes(['category']).columns\n",
    "Data[cat_columns] = Data[cat_columns].apply(lambda x: x.cat.codes)\n"
   ]
  },
  {
   "cell_type": "code",
   "execution_count": 58,
   "metadata": {
    "collapsed": false
   },
   "outputs": [
    {
     "name": "stdout",
     "output_type": "stream",
     "text": [
      "[  0.00000000e+00   0.00000000e+00   1.00000000e+00   0.00000000e+00\n",
      "   7.15000000e+02   3.50000000e+01   2.00400000e+03   4.00000000e+00\n",
      "  -1.00000000e+00   1.10000000e+01   0.00000000e+00   1.00000000e+00\n",
      "  -1.00000000e+00   5.00000000e+00   2.00000000e+00   1.00000000e+00\n",
      "   3.00000000e+00   1.00000000e+00   4.00000000e+00   4.00000000e+00\n",
      "   0.00000000e+00   1.00000000e+00   5.00000000e+00   1.00000000e+00\n",
      "   0.00000000e+00   1.00000000e+00   0.00000000e+00   0.00000000e+00\n",
      "   1.00000000e+00   0.00000000e+00   0.00000000e+00   1.00000000e+00\n",
      "   7.50000000e+01   7.50000000e+01   0.00000000e+00   0.00000000e+00\n",
      "   0.00000000e+00   0.00000000e+00   0.00000000e+00   0.00000000e+00\n",
      "   0.00000000e+00   1.00000000e+00   0.00000000e+00   0.00000000e+00\n",
      "   1.00000000e+00   0.00000000e+00   1.00000000e+00   0.00000000e+00\n",
      "   0.00000000e+00   7.30000000e+01   2.27000000e+01   3.00000000e+00\n",
      "   0.00000000e+00   1.00000000e+00   1.00000000e+00   1.00000000e+00\n",
      "   0.00000000e+00   3.20120000e+02   0.00000000e+00   0.00000000e+00\n",
      "   0.00000000e+00   0.00000000e+00   0.00000000e+00]\n"
     ]
    }
   ],
   "source": [
    "# print (Data[1:])\n",
    "# print (Data.columns.values)\n",
    "print(Data.values[0,:])"
   ]
  },
  {
   "cell_type": "code",
   "execution_count": 63,
   "metadata": {
    "collapsed": false
   },
   "outputs": [
    {
     "name": "stdout",
     "output_type": "stream",
     "text": [
      "(424431, 63)\n",
      "(424431, 58)\n",
      "(424431,)\n",
      "[  1.247e-03   4.227e-01   4.339e-01   2.919e-01   1.629e+00   4.638e+00\n",
      "   2.065e+00   1.043e+01   1.032e-01   5.971e-01   2.579e+00   1.343e+00\n",
      "   4.832e-01   9.560e-06   8.710e-02   2.376e+00   1.694e+00   4.502e-01\n",
      "   2.527e-01   4.470e-01   6.300e-01   4.581e-02   1.054e-01   1.410e+01\n",
      "   1.856e-02   6.274e+00   2.336e+00   1.804e-01   8.398e-02   2.017e+00\n",
      "   6.662e+00   1.394e+01   8.702e-01   2.743e-01   1.203e+01   1.113e+00\n",
      "   8.648e-01   9.219e-01   2.209e-01   2.344e+00   3.046e+01   2.866e-01\n",
      "   9.581e+00   1.237e+01   5.145e+00   1.455e+00   8.754e+00   3.345e-03\n",
      "   3.122e-01   5.260e-01   2.843e+00   1.845e-02   4.489e-01   8.106e-02\n",
      "   7.597e-03   3.306e+02   2.899e+00   7.554e+01]\n",
      "['Driver_Total', 'Driver_Total_Senior_Ages_65_69', 'SYS_Renewed', 'Annual_Premium']\n",
      "[[   1.      0.      1.    320.12]\n",
      " [   1.      0.      1.    259.7 ]\n",
      " [   1.      0.      1.    613.74]\n",
      " ..., \n",
      " [   1.      0.      0.    118.21]\n",
      " [   1.      0.      0.    103.93]\n",
      " [   1.      0.      1.    281.24]]\n"
     ]
    }
   ],
   "source": [
    "# Feature Extraction with Univariate Statistical Tests (Chi-squared for classification)\n",
    "from sklearn.feature_selection import SelectKBest\n",
    "from sklearn.feature_selection import f_regression\n",
    "# load data\n",
    "\n",
    "array = Data.values\n",
    "print(array.shape)\n",
    "\n",
    "X = array[:,0:-5]\n",
    "print (X.shape)\n",
    "Y = array[:,-1]\n",
    "print (Y.shape)\n",
    "# feature extraction\n",
    "test = SelectKBest(score_func=f_regression, k=4)\n",
    "fit = test.fit(X, Y)\n",
    "# summarize scores\n",
    "np.set_printoptions(precision=3)\n",
    "print(fit.scores_)\n",
    "features = fit.transform(X)\n",
    "# summarize selected features\n",
    "is_feature_rel = fit.get_support()\n",
    "rel_names = [Data.columns.values[i] for i in range(X.shape[1]) if is_feature_rel[i]]\n",
    "\n",
    "print(rel_names)\n",
    "print(features)"
   ]
  },
  {
   "cell_type": "code",
   "execution_count": null,
   "metadata": {
    "collapsed": true
   },
   "outputs": [],
   "source": []
  }
 ],
 "metadata": {
  "anaconda-cloud": {},
  "kernelspec": {
   "display_name": "Python [conda root]",
   "language": "python",
   "name": "conda-root-py"
  },
  "language_info": {
   "codemirror_mode": {
    "name": "ipython",
    "version": 3
   },
   "file_extension": ".py",
   "mimetype": "text/x-python",
   "name": "python",
   "nbconvert_exporter": "python",
   "pygments_lexer": "ipython3",
   "version": "3.5.2"
  }
 },
 "nbformat": 4,
 "nbformat_minor": 1
}
