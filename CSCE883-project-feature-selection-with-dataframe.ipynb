{
 "cells": [
  {
   "cell_type": "code",
   "execution_count": 116,
   "metadata": {
    "collapsed": false
   },
   "outputs": [
    {
     "name": "stdout",
     "output_type": "stream",
     "text": [
      "['Standard ' 'Preferred']\n",
      "[ 6 12]\n",
      "['Direct Billed to Insured' 'Premium Finance']\n",
      "['Pre-paid' 'Installment']\n",
      "['N' 'Y']\n",
      "['43046' '00000' '43555' ..., '14344' '43191' '82216']\n",
      "[35 17 27 31 30 32 26 13 16 36 20 37 18 22 15 19]\n",
      "[2004 1980 2005 1985 2002 1991 2001 1995 1997 1998 1990 1986 1992 1996 1984\n",
      " 1988 2006 1999 2003 2000 1975 1993 1982 1994 2007 1978 1983 1987 1977 1973\n",
      " 1989 1969 1976 1954 1979 1970 1955 1964 1981 1966 1972 1965 1971 1961 1962\n",
      " 1967 1968 1974 1960 1952 1953 1940 1963 2008 1959 1957 1950 1928 1956 1947\n",
      " 1948 1951 1939 1958 1949 1941 1934 1946 1930 1932 1937 1924 1935 1938 1931\n",
      " 1936 1945 1929 1942 1927]\n",
      "['Standard' 'Intermediate' 'High' 'Sports' 'Sports Premium']\n",
      "[11 10 12  7 16 15  8  6 19  4  5  3 17 22 14 18 13 25  1  2 20 21 23 24 27\n",
      " 26  9]\n",
      "[ 1 99  2  3  4  5  8  7  6]\n",
      "['Farm    ' 'Pleasure' 'Work    ' 'Business']\n",
      "[ 10.543  10.     12.      7.     21.     14.      8.      4.      2.     13.\n",
      "   6.      5.     25.     15.      3.      1.     42.     20.     35.     40.\n",
      "  30.     50.     11.      9.     45.     22.     16.     26.     17.     23.\n",
      "  18.      0.     24.     27.     60.     31.     29.     32.     99.     28.\n",
      "  38.     49.     19.     37.     48.     34.     36.     95.     39.     62.\n",
      "  43.     47.     52.     46.     65.     90.     55.     80.     58.     44.\n",
      "  51.     57.     70.     71.     56.     33.     83.     75.     61.     64.\n",
      "  41.     93.     54.     63.     53.     78.     67.     72.     98.     59.   ]\n",
      "[5 4 2 6 3 1 0 7 8 9]\n",
      "['Not Applicable' 'Passive Disabling-Vehicle Recovery' 'Alarm Only'\n",
      " 'Active Disabling']\n",
      "['Y' 'N']\n",
      "[3 9 2 5 7 6 1 8 4]\n",
      "[  1000.     2000.    50000.     5000.     3634.46  10000.    25000.  ]\n",
      "['250-500' '100-300' '50-100 ' '25-50  ' nan '300-500' '100-500' '500-500'\n",
      " '1M-1M  ']\n",
      "[  100000.    50000.    35000.    25000.       nan   250000.   500000.\n",
      "  1000000.]\n",
      "['N' 'Y']\n",
      "['Y' 'N']\n",
      "[  500.    50.   100.   250.    nan  1000.   200.  3000.  2000.]\n",
      "[1 2 4 3]\n",
      "[0 1 2 3]\n",
      "[1 0 2 3]\n",
      "[0 1 2 3]\n",
      "[0 1 2 4 3]\n",
      "[1 0 2]\n",
      "[0 1 2]\n",
      "[0 1 2 3]\n",
      "[1 2 0 4 3]\n",
      "[0 1 2]\n",
      "[0 1 2]\n",
      "[0 1 2]\n",
      "[0 1 2 3]\n",
      "[0 1 2 3]\n",
      "[0 2 1 4 3]\n",
      "[0 1 2]\n",
      "[1 0 2]\n",
      "['N' 'Y']\n",
      "['Not Applicable                 ' 'With or Without Driver Training'\n",
      " 'Without Driver Training        ' 'With Driver Training           ']\n",
      "['Not Eligible for Good Student Credit'\n",
      " 'Eligible for Good Student Credit    ']\n",
      "[0 1 2 4 3 5 6 7]\n",
      "['Y' 'N']\n",
      "['N' 'Y']\n",
      "['N' 'Y']\n",
      "['430' '000' '435' '440' '428' '429' '425' '426' '438' '439' '434' '427'\n",
      " '521' '441' '433' '424' '423' '431' '442' '436' '234' '432' '437' '522'\n",
      " '328' '983' '354' '154' '825' '417' '830' '444' '464' '725' '896' '492'\n",
      " '422' '497' '493' '325' '453' '845' '225' '821' '226' '421' '496' '446'\n",
      " '198' '445' '574' '799' '625' '804' '419' '778' '200' '859' '123' '160'\n",
      " '486' '355' '395' '101' '739' '813' '577' '443' '479' '525' '329' '513'\n",
      " '447' '728' '740' '824' '155' '484' '333' '129' '828' '347' '487' '491'\n",
      " '393' '611' '153' '463' '411' '148' '925' '252' '499' '940' '338' '949'\n",
      " '719' '454' '511' '138' '803' '294' '994' '628' '470' '489' '475' '520'\n",
      " '676' '448' '159' '161' '412' '723' '519' '777' '140' '327' '451' '494'\n",
      " '473' '506' '530' '410' '514' '861' '399' '591' '526' '449' '524' '324'\n",
      " '401' '624' '128' '474' '549' '905' '465' '483' '276' '255' '589' '450'\n",
      " '471' '406' '485' '143' '158' '510' '156' '849' '729' '924' '130' '528'\n",
      " '873' '518' '481' '508' '515' '509' '456' '462' '741' '730' '783' '797'\n",
      " '482' '341' '593' '416' '951' '414' '331' '488' '658' '501' '477' '231'\n",
      " '321' '332' '314' '214' '241' '359' '480' '855' '420' '887' '864' '368'\n",
      " '366' '878' '502' '695' '747' '843' '461' '230' '238' '459' '455' '973'\n",
      " '452' '826' '235' '822']\n",
      "[ 22.7  47.1  47.2  46.7  16.5  46.3  17.   47.7  16.   46.6  16.1  16.6\n",
      "  47.5  16.8  16.2  16.7  25.3  16.3  37.5  42.   42.5  16.9  46.   39.7\n",
      "  43.5  44.   47.   47.9  47.6  16.4  40.1  38.   47.3  46.5  43.2  13.8\n",
      "  23.1  23.6  15.9  46.9  23.   23.5  18.3  45.1  35.8  29.8  32.5  45.6\n",
      "  46.1  30.   45.9  22.4  44.5  45.5  45.7  46.2  32.4  32.9  15.8  46.8\n",
      "  41.   47.4  24.   40.   40.5  45.   45.3  40.4  40.9  42.1  44.6  20.8\n",
      "  20.5  20.   44.1  44.3  39.   35.3  34.   34.5  43.6  30.2  30.7  37.2\n",
      "  37.7  43.9  41.5  43.1  43.   25.1  25.6  42.7  15.7  17.3  42.8  41.6\n",
      "  21.3  42.6  18.1  18.6  20.1  20.6  15.6  42.3  42.2  30.5  41.9  41.7\n",
      "  15.5  41.3  42.4  42.9  17.5  41.1  38.4  38.9  41.2  41.8  23.8  35.\n",
      "  22.1  41.4  34.6  40.2  35.9  39.1  15.4  40.6  40.7  28.8  40.3  19.\n",
      "  40.8  35.5  30.8  15.3  37.8  38.2  35.6  29.   20.2  20.7  27.4  21.1\n",
      "  33.1  33.6  39.3  39.8  39.5  22.6  39.6  18.4  39.2  38.5  24.8  21.\n",
      "  19.8  24.3  27.   20.4  39.4  26.3  39.9  24.5  19.2  19.7  30.4  30.9\n",
      "  35.4  27.3  27.8  22.8  19.6  31.   30.3  28.1  18.9  19.4  24.1  33.3\n",
      "  22.3  31.8  32.8  32.3  34.1  28.3  21.9  15.2  21.8  38.3  38.8  38.1\n",
      "  38.7  38.6  32.1  29.1  24.2  33.7  20.3  33.8  35.2  35.7  15.1  37.9\n",
      "  26.8  27.6  15.   17.1  18.8  19.3  26.   26.5  36.   21.4  24.4  29.6\n",
      "  26.9  17.9  11.7  25.7  24.9  18.7  28.5  25.2  37.   19.5  34.4  34.9\n",
      "  37.1  37.6  29.4  23.3  25.4  25.9  37.3  46.4  45.2  37.4  31.7  32.2\n",
      "  28.4  28.9  28.6  29.3  17.6  20.9  14.9  25.   25.5  22.   31.4  31.5\n",
      "  34.3  34.8  32.6  21.6  14.8  33.   33.4  10.5  34.7  10.    9.5   9.6\n",
      "  10.2  33.5  34.2  10.3   9.8  27.1  33.9  10.1  10.4  22.5   7.6  45.8\n",
      "  21.5  31.3   9.9   9.7  14.7  12.8  35.1  14.6  31.2  17.2  14.5  14.\n",
      "  13.   25.8  14.4   8.   29.7  17.4  14.3  24.6  13.5  32.   28.2  30.1\n",
      "  30.6  33.2  14.2  11.1  28.7  22.2  23.9  14.1  26.2  26.7  31.9  21.7\n",
      "  31.1  31.6  32.7  17.8  13.9  29.5  13.7  27.5   6.7   6.9  10.8  11.3\n",
      "  29.2  13.6   7.7   8.5  13.4  13.3  18.   13.2  13.1  19.9  28.   26.6\n",
      "  12.9  26.4   8.2  11.4  11.9  12.3  27.2  12.7  23.2  23.7  12.5  12.6\n",
      "  29.9  12.4   5.7  12.   12.2  12.1  24.7  27.9  27.7   8.3  18.5   7.8\n",
      "  23.4  11.8  22.9  11.5  11.6  26.1  17.7  18.2  11.2   0.   11.   10.9\n",
      "   6.1  10.7  10.6  19.1   7.    4.5   5.    6.    9.4  21.2   9.3   8.7\n",
      "   3.    8.6   6.8   9.2   9.1   7.3   9.    7.2   8.9   8.8   6.3   8.4\n",
      "   8.1   7.4   7.9   7.5   7.1   6.6   6.5   6.4   5.1   6.2   5.9   5.8\n",
      "   1.    1.6   5.6   5.5   5.4   5.3   5.2   4.9   4.8   2.2   2.7   4.7\n",
      "   4.6   4.4   4.    4.3   4.2   3.5   3.6   4.1   3.4   3.9   3.8   3.7\n",
      "   2.8   3.3   2.5   2.    3.2   3.1   2.9   2.6   2.4   2.3  53.5  54.\n",
      "   2.1   1.9   1.8   1.7   1.5   1.2   0.5   1.4   1.3   1.1   0.6   0.9\n",
      "   0.8   0.7   0.2   0.1   0.4   0.3]\n",
      "['Standard' 'Preferred' 'Non-standard' 'Hybrid']\n",
      "['N' 'Y']\n",
      "['Y' 'N']\n",
      "['100-400' '100-200' '40-100 ' '20-50' nan '200-400' '75-300' '300-300'\n",
      " '750-750']\n",
      "['Y' 'N']\n",
      "['N' 'Y']\n",
      "[ 320.12  259.7   613.74 ...,  541.26  117.13  118.21]\n",
      "[0 1 2 3 4 5]\n",
      "[    0.      54.5    209.44 ...,  1717.    9066.76   571.19]\n",
      "[   0.       2.       4.       1.       2.389    2.563    3.094    4.067\n",
      "    3.515    2.873    6.831  185.185    3.717    2.022    2.033    6.\n",
      "    2.8      2.967    2.701    3.309    3.519    4.525    5.811    2.623\n",
      "    2.806    2.335    7.077    3.656    2.3      7.468   12.579    1.003\n",
      "    2.092    4.136    6.842    2.521    2.642    6.57     4.415    2.809\n",
      "    4.088    5.872    2.586    2.235    7.669    3.146    2.178    9.434\n",
      "    3.549   73.529    1.197    2.248    4.207    9.681    6.035    3.731\n",
      "   12.547    5.577    2.788    3.957    6.135    4.907    4.09     4.6\n",
      "    4.112    2.261    2.092    6.309   10.341    2.493    5.258  181.818\n",
      "   13.928   11.312    6.083    2.045    3.232   10.225   10.111    3.228\n",
      "    2.056    4.114    2.51     5.411   21.645    2.549   26.042    8.\n",
      "    1.123    2.287    6.817    1.014    2.392    2.486    3.811    2.983\n",
      "    2.682    2.667    2.443    3.604    2.43    10.515    3.771   16.447\n",
      "    2.245    4.658   18.416    7.704  120.482    3.383    2.524    7.628\n",
      "    2.382   14.144    7.358    8.511    2.08     2.045    2.767    5.056\n",
      "    2.662    2.116    2.61     6.618    2.057    3.812    3.256    3.421\n",
      "    2.672   30.211    5.656    3.534    6.572    2.921    4.023    4.543\n",
      "    4.307    2.011   15.823    3.66    13.477   52.083    2.168    1.547\n",
      "    4.409    2.717    8.418    4.281    3.792    4.575    3.286    5.485\n",
      "    2.92    10.823    7.179    6.944   13.004    3.128   13.405    7.868\n",
      "    3.017   13.141    2.011    5.688    5.935    3.111    3.041    2.344\n",
      "    5.184    2.398    5.325    5.402    4.488    3.694    8.621    3.352\n",
      "    8.977    2.194    4.255    2.103    3.25     2.538    3.915   26.316\n",
      "    5.247    2.875    4.753    4.464    1.383    6.031    7.215    2.395\n",
      "    3.833    8.133   19.048   24.272    3.752    9.95     4.701    9.524\n",
      "    3.166  357.143    3.439    4.279   22.624    2.648    2.405    1.034\n",
      "    8.562    1.722    2.496    3.059    2.711    4.044    2.275    8.467\n",
      "   72.464    4.892    2.638    8.666    1.825    3.681    1.229    2.828\n",
      "    3.118    2.898   28.329    3.978   11.148   13.624    2.321    2.359\n",
      "    4.361    2.896    2.366    2.437    2.462    3.755    4.717    6.702\n",
      "    2.166    3.893    2.067    4.233   24.155    2.928    5.432   23.753\n",
      "   15.337    2.532    3.643   15.083    3.851   36.765    2.117    2.912\n",
      "    3.358    6.293    3.621   46.083    2.127    4.843    6.068   17.241\n",
      "    5.488    3.447    2.08     9.285    2.272    2.503    8.23    27.855\n",
      "    5.04     3.573    2.167    7.541    3.481    2.535    4.826    9.891\n",
      "   17.422    1.299    3.176    5.777    2.302    1.006    4.357    6.456\n",
      "    3.291   52.632    6.349   10.965   20.121    4.435    4.209   16.722\n",
      "    2.853    5.171    6.583    1.502    7.386    2.258    3.38     3.407\n",
      "    2.034    2.453    4.232    2.172    3.64     2.596    4.254    2.244\n",
      "    2.103    6.964    3.476   14.472    2.731    4.973    3.935    2.567\n",
      "    2.446   91.743    4.988    4.847    2.653    2.48     2.314    3.539\n",
      "    5.631    5.809    2.542    2.199    4.329    2.306    2.629   10.764\n",
      "    4.148    3.321    3.466    1.834    2.483    8.905    1.398    1.177\n",
      "    4.789    8.489   36.364   19.268   13.072    2.952    1.272    5.126\n",
      "    5.119    2.296    1.144   10.46     1.061    1.285    2.476    1.267\n",
      "    2.959    2.581    2.129    6.188    1.174    1.08     7.388    3.173\n",
      "    2.992    2.706    3.067    2.421    2.022    3.346    1.347    2.908\n",
      "    6.277    2.115    4.31     3.262    3.268    1.237   60.241    2.556\n",
      "    2.408    1.478    2.204   20.325    3.28     1.077    4.184    2.744\n",
      "    1.843   10.842    2.218    2.47     3.914    5.227    7.278    2.677\n",
      "    2.364    3.5      2.291    6.169    1.587    3.025    5.155    2.83\n",
      "    2.147   16.       2.098    2.18     3.202    6.4      5.568    2.746\n",
      "    2.105    8.177    2.22     4.259    1.58     7.746    1.281    8.299\n",
      "    4.386    1.028    6.536   25.84     9.2      3.092    1.763   10.65\n",
      "    3.288    2.079    8.881    1.514    6.386    2.633    3.715    2.152\n",
      "    3.676    2.11     1.659    1.025    3.328    1.058   40.65     3.\n",
      "    1.601    3.989    1.994    6.689   15.198    3.588    3.434    5.701\n",
      "    5.11     9.785   36.232    2.573    1.127   15.748    6.345    4.137\n",
      "    2.591    1.07     8.785    2.273    3.349    4.113    2.192    2.779\n",
      "    2.433    3.486    6.998    2.528   20.45     4.089    8.271    1.294\n",
      "   12.484    1.011  370.37     2.165    2.49    21.552    3.259    2.23\n",
      "    3.174    1.259    1.816  121.951   17.391    3.008    2.319    6.761\n",
      "    2.514    1.426    2.262    3.318    5.75     1.193    6.464   40.816\n",
      "    3.05     1.629    2.139    5.663    2.785   32.895    2.092    1.327\n",
      "    1.008    2.473    3.584    5.841    2.376    3.21     3.       7.582\n",
      "    3.894    2.752    2.703   15.175    1.166    3.687    6.242    1.313\n",
      "    2.943    6.423    2.153    2.897    4.854    5.447    1.29     2.944\n",
      "   40.404    1.911    1.052    3.782    2.086    1.04     8.045    5.333\n",
      "    5.099    4.958    2.039    5.747    7.605    2.686    2.797    1.037\n",
      "    1.134   28.011    6.101    1.064    9.381    2.239   12.063    2.247\n",
      "    1.73     2.104   14.358    1.652    5.967   36.496    3.852   17.857\n",
      "    1.13    12.626    1.141    2.056   12.27     3.16     4.64     7.097\n",
      "    7.831    2.604   20.202    2.577    2.657    1.113    5.491    3.093\n",
      "   12.195    8.711    5.87     4.853    9.363   11.494    1.56     3.102\n",
      "    4.135    4.161    4.38     2.069   18.116    2.571    2.589    2.763\n",
      "    1.853    7.508    8.361    3.873    8.772    2.221   30.675    4.78\n",
      "    4.803    3.472    1.608    2.226    3.794    2.317    2.737    5.084\n",
      "    2.379   18.215    4.478    5.2      4.693    1.594    2.691   19.157\n",
      "    1.738    5.794    1.46     2.191    2.722    4.795    2.286    1.213\n",
      "    2.904    1.521    2.427    2.866    2.424    4.333    2.935    4.487\n",
      "    5.407    7.299    2.413    4.182    6.857    1.637    1.322    5.705\n",
      "    1.42     1.155    1.807    1.263    1.25     8.11     3.216    1.534\n",
      "    2.079    4.583   10.06    10.805    1.205    3.578    6.085   22.989\n",
      "    1.448    7.828    4.161    2.851    1.431    4.621    4.269    4.496\n",
      "    2.074   17.513    5.172    1.233    4.055    5.028    5.368    2.401\n",
      "    3.067    1.622    2.091    3.37     9.862    3.2      1.043    3.453\n",
      "    3.831    3.774   12.136    8.319    4.634    7.321    1.151    1.49\n",
      "    5.382    3.156    2.696    1.109   45.249    2.274    5.546    4.195\n",
      "    5.685   21.277    1.116    3.51     2.355    3.505    3.316    1.573\n",
      "   18.248    5.463   30.488    1.984    3.744    4.439    9.337    9.843\n",
      "    2.402    2.794    1.667    2.56     4.919    2.57    28.169   11.086\n",
      "   26.11     5.09     6.636    8.764    2.645    1.09    14.599    2.212\n",
      "    2.253    5.615    1.332    3.762    3.608    3.348    6.291    2.417\n",
      "   33.445    3.444   12.165    1.891    3.121    2.808    1.189    5.644\n",
      "    1.881    1.276    2.017    1.185    6.275    1.454    3.967    1.241\n",
      "    4.562    3.569    9.867    1.872    2.31    16.09     2.208    2.351\n",
      "    5.       2.142    2.186    5.159    9.579    3.085    1.921    2.281\n",
      "    1.941    1.443    1.566    2.233    2.134]\n",
      "[    0.      54.5    209.44 ...,  1717.    9066.76   571.19]\n",
      "[  0.     0.19   0.75 ...,  48.29  52.93  23.33]\n"
     ]
    }
   ],
   "source": [
    "from sklearn import preprocessing\n",
    "import numpy as np\n",
    "from numpy import genfromtxt\n",
    "import pandas as pd\n",
    "\n",
    "\n",
    "\n",
    "\n",
    "\n",
    "Data = pd.read_csv('training_data_2016.csv',low_memory = False)\n",
    "\n",
    "# Drop unneccessary columns #\n",
    "\n",
    "Data = Data.drop('Vehicle_Annual_Miles', 1)\n",
    "Data = Data.drop('Vehicle_Comprehensive_Coverage_Limit', 1)\n",
    "Data = Data.drop('Driver_Minimum_Age', 1)\n",
    "Data = Data.drop('Driver_Maximum_Age', 1)\n",
    "Data = Data.drop('EEA_PolicyYear', 1)\n",
    "Data = Data.drop('Vehicle_New_Cost_Amount', 1)\n",
    "Data.drop('Vehicle_Make_Description', 1, inplace=True)\n",
    "\n",
    "# Clearing unneccessary rows #\n",
    "\n",
    "Data = Data[Data.EEA_Policy_Tenure != -1]\n",
    "Data = Data[Data.Vehicle_Symbol != -1]\n",
    "Data = Data[Data.Vehicle_Days_Per_Week_Driven != -1]\n",
    "Data = Data[Data.Vehicle_Anti_Theft_Device != 'Unknown']\n",
    "\n",
    "# Replace missing Data #\n",
    "\n",
    "Data['Policy_Zip_Code_Garaging_Location'] = Data['Policy_Zip_Code_Garaging_Location'].replace('Unknown', '00000')\n",
    "Data['Vehicle_Miles_To_Work'] = Data['Vehicle_Miles_To_Work'].replace('-1', np.nan)\n",
    "Data['Vehicle_Passive_Restraint'] = Data['Vehicle_Passive_Restraint'].replace('Unknown', 'Y')\n",
    "Data['EEA_Policy_Zip_Code_3'] = Data['EEA_Policy_Zip_Code_3'].replace('Unknown', '000')\n",
    "Data['Vehicle_Med_Pay_Limit'] = Data['Vehicle_Med_Pay_Limit'].replace('-1', np.nan)\n",
    "Data['Vehicle_Physical_Damage_Limit'] = Data['Vehicle_Physical_Damage_Limit'].replace('-1', np.nan)\n",
    "Data['Vehicle_Collision_Coverage_Deductible'] = Data['Vehicle_Collision_Coverage_Deductible'].replace('-1', np.nan)\n",
    "\n",
    "# Fill nan data #\n",
    "\n",
    "Data['Vehicle_Miles_To_Work'].fillna((Data['Vehicle_Miles_To_Work'].mean()), inplace=True)\n",
    "Data['Vehicle_Med_Pay_Limit'].fillna((Data['Vehicle_Med_Pay_Limit'].mean()), inplace=True)\n",
    "\n",
    "# Print unique values in each column #\n",
    "\n",
    "for col in Data[1:]:\n",
    "    print (Data[col].unique())\n",
    "\n",
    "# Save modified data to new csv file #\n",
    "\n",
    "Data.to_csv('new_data.csv', sep=',', encoding='utf-8')"
   ]
  },
  {
   "cell_type": "code",
   "execution_count": 117,
   "metadata": {
    "collapsed": false
   },
   "outputs": [
    {
     "name": "stdout",
     "output_type": "stream",
     "text": [
      "Index(['Policy_Company', 'Policy_Installment_Term', 'Policy_Billing_Code',\n",
      "       'Policy_Method_Of_Payment', 'Policy_Reinstatement_Fee_Indicator',\n",
      "       'Policy_Zip_Code_Garaging_Location', 'Vehicle_Performance',\n",
      "       'Vehicle_Number_Of_Drivers_Assigned', 'Vehicle_Usage',\n",
      "       'Vehicle_Anti_Theft_Device', 'Vehicle_Passive_Restraint',\n",
      "       'Vehicle_Med_Pay_Limit', 'Vehicle_Bodily_Injury_Limit',\n",
      "       'Vehicle_Physical_Damage_Limit',\n",
      "       'Vehicle_Comprehensive_Coverage_Indicator',\n",
      "       'Vehicle_Collision_Coverage_Indicator',\n",
      "       'Vehicle_Collision_Coverage_Deductible',\n",
      "       'Vehicle_Youthful_Driver_Indicator',\n",
      "       'Vehicle_Youthful_Driver_Training_Code',\n",
      "       'Vehicle_Youthful_Good_Student_Code',\n",
      "       'Vehicle_Safe_Driver_Discount_Indicator',\n",
      "       'EEA_Liability_Coverage_Only_Indicator',\n",
      "       'EEA_Multi_Auto_Policies_Indicator', 'EEA_Policy_Zip_Code_3',\n",
      "       'EEA_Agency_Type', 'EEA_Packaged_Policy_Indicator',\n",
      "       'EEA_Full_Coverage_Indicator', 'EEA_Prior_Bodily_Injury_Limit',\n",
      "       'SYS_Renewed', 'SYS_New_Business'],\n",
      "      dtype='object')\n"
     ]
    }
   ],
   "source": [
    "\n",
    "\n",
    "\n",
    "# Data.replace(replacements, regex=True, inplace=True)\n",
    "categorical_columns = ['Policy_Company', 'Policy_Installment_Term', 'Policy_Billing_Code', 'Policy_Method_Of_Payment', 'Policy_Reinstatement_Fee_Indicator', 'Policy_Zip_Code_Garaging_Location', 'Vehicle_Performance', 'Vehicle_Number_Of_Drivers_Assigned', 'Vehicle_Usage', 'Vehicle_Anti_Theft_Device', 'Vehicle_Passive_Restraint', 'Vehicle_Med_Pay_Limit', 'Vehicle_Bodily_Injury_Limit', 'Vehicle_Physical_Damage_Limit', 'Vehicle_Comprehensive_Coverage_Indicator', 'Vehicle_Comprehensive_Coverage_Limit', 'Vehicle_Collision_Coverage_Indicator', 'Vehicle_Collision_Coverage_Deductible', 'Vehicle_Youthful_Driver_Indicator', 'Vehicle_Youthful_Driver_Training_Code', 'Vehicle_Youthful_Good_Student_Code', 'Vehicle_Safe_Driver_Discount_Indicator', 'EEA_Liability_Coverage_Only_Indicator', 'EEA_Multi_Auto_Policies_Indicator', 'EEA_Policy_Zip_Code_3', 'EEA_Agency_Type', 'EEA_Packaged_Policy_Indicator', 'EEA_Full_Coverage_Indicator', 'EEA_Prior_Bodily_Injury_Limit', 'SYS_Renewed', 'SYS_New_Business']\n",
    "\n",
    "for col in Data[1:]:\n",
    "    if col in categorical_columns:\n",
    "        Data[col] = Data[col].astype('category')\n",
    "#     print (Data[col].unique())\n",
    "#     print Data[col].columns\n",
    "#print Data[1].unique()\n",
    "#print list(Data.columns.values)\n",
    "#print(Data.head())\n",
    "cat_columns = Data.select_dtypes(['category']).columns\n",
    "print(cat_columns)\n",
    "Data[cat_columns] = Data[cat_columns].apply(lambda x: x.cat.codes)\n"
   ]
  },
  {
   "cell_type": "code",
   "execution_count": 118,
   "metadata": {
    "collapsed": false
   },
   "outputs": [
    {
     "name": "stdout",
     "output_type": "stream",
     "text": [
      "Index(['Policy_Company', 'Policy_Installment_Term', 'Policy_Billing_Code',\n",
      "       'Policy_Method_Of_Payment', 'Policy_Reinstatement_Fee_Indicator',\n",
      "       'Policy_Zip_Code_Garaging_Location', 'Vehicle_Performance',\n",
      "       'Vehicle_Number_Of_Drivers_Assigned', 'Vehicle_Usage',\n",
      "       'Vehicle_Anti_Theft_Device', 'Vehicle_Passive_Restraint',\n",
      "       'Vehicle_Med_Pay_Limit', 'Vehicle_Bodily_Injury_Limit',\n",
      "       'Vehicle_Physical_Damage_Limit',\n",
      "       'Vehicle_Comprehensive_Coverage_Indicator',\n",
      "       'Vehicle_Collision_Coverage_Indicator',\n",
      "       'Vehicle_Collision_Coverage_Deductible',\n",
      "       'Vehicle_Youthful_Driver_Indicator',\n",
      "       'Vehicle_Youthful_Driver_Training_Code',\n",
      "       'Vehicle_Youthful_Good_Student_Code',\n",
      "       'Vehicle_Safe_Driver_Discount_Indicator',\n",
      "       'EEA_Liability_Coverage_Only_Indicator',\n",
      "       'EEA_Multi_Auto_Policies_Indicator', 'EEA_Policy_Zip_Code_3',\n",
      "       'EEA_Agency_Type', 'EEA_Packaged_Policy_Indicator',\n",
      "       'EEA_Full_Coverage_Indicator', 'EEA_Prior_Bodily_Injury_Limit',\n",
      "       'SYS_Renewed', 'SYS_New_Business'],\n",
      "      dtype='object')\n",
      "[  1.000e+00   0.000e+00   0.000e+00   1.000e+00   0.000e+00   7.150e+02\n",
      "   3.500e+01   2.004e+03   4.000e+00   1.100e+01   0.000e+00   1.000e+00\n",
      "   1.054e+01   5.000e+00   2.000e+00   1.000e+00   3.000e+00   0.000e+00\n",
      "   4.000e+00   3.000e+00   0.000e+00   1.000e+00   4.000e+00   1.000e+00\n",
      "   0.000e+00   1.000e+00   0.000e+00   0.000e+00   1.000e+00   0.000e+00\n",
      "   0.000e+00   1.000e+00   0.000e+00   0.000e+00   0.000e+00   0.000e+00\n",
      "   0.000e+00   0.000e+00   0.000e+00   1.000e+00   0.000e+00   0.000e+00\n",
      "   1.000e+00   0.000e+00   1.000e+00   0.000e+00   0.000e+00   7.300e+01\n",
      "   2.270e+01   3.000e+00   0.000e+00   1.000e+00   1.000e+00   1.000e+00\n",
      "   0.000e+00   3.201e+02   0.000e+00   0.000e+00   0.000e+00   0.000e+00\n",
      "   0.000e+00]\n"
     ]
    }
   ],
   "source": [
    "# print (Data[1:])\n",
    "# print (Data.columns.values)\n",
    "print(cat_columns)\n",
    "print(Data.values[0,:])"
   ]
  },
  {
   "cell_type": "code",
   "execution_count": 119,
   "metadata": {
    "collapsed": false
   },
   "outputs": [],
   "source": [
    "# get some training and test data sets\n",
    "training_data_size = 100000\n",
    "testing_data_size = 1000\n",
    "number_test_sets = 100\n",
    "training_data = Data.values[range(training_data_size), :]\n",
    "test_sets = []\n",
    "for i in range(number_test_sets):\n",
    "    t_set = Data.values[range(i * testing_data_size, (i + 1) * testing_data_size), :]\n",
    "    test_sets.append(t_set)\n",
    "    \n"
   ]
  },
  {
   "cell_type": "code",
   "execution_count": 120,
   "metadata": {
    "collapsed": false
   },
   "outputs": [],
   "source": [
    "# scale the output mean 0 with unit variance\n",
    "\n",
    "from sklearn.preprocessing import StandardScaler  \n",
    "\n",
    "X = training_data[:,0:-5]\n",
    "Y = training_data[:,-1]\n",
    "\n",
    "scaler_x = StandardScaler()  \n",
    " \n",
    "X = scaler_x.fit_transform(X)  \n",
    "# print (training_data)\n",
    "# print(test_sets[0]\n",
    "# scaler_y = StandardScaler()\n",
    "# Y = scaler_y.fit_transform(Y)\n",
    "for i in range(len(test_sets)):\n",
    "    X_t = scaler_x.transform(test_sets[i][:,0:-5])\n",
    "    Y_t = test_sets[i][:,-1]#scaler_y.transform(test_sets[i][:,-1])\n",
    "    test_sets[i] = (X_t, Y_t)"
   ]
  },
  {
   "cell_type": "code",
   "execution_count": null,
   "metadata": {
    "collapsed": false
   },
   "outputs": [],
   "source": [
    "# Feature Extraction with Univariate Statistical Tests\n",
    "from sklearn.feature_selection import SelectKBest\n",
    "from sklearn.feature_selection import f_regression\n",
    "\n",
    "X = training_data[:,0:-5]\n",
    "print (X.shape)\n",
    "Y = training_data[:,-1]\n",
    "print (Y.shape)\n",
    "# feature extraction\n",
    "test = SelectKBest(score_func=f_regression, k=20)\n",
    "fit = test.fit(X, Y)\n",
    "# summarize scores\n",
    "np.set_printoptions(precision=3)\n",
    "print(fit.scores_)\n",
    "features = fit.transform(X)\n",
    "# summarize selected features\n",
    "is_feature_rel = fit.get_support()\n",
    "rel_names = [Data.columns.values[i] for i in range(X.shape[1]) if is_feature_rel[i]]\n",
    "\n",
    "print(rel_names)\n",
    "print(features)\n",
    "\n",
    "# sorted_feature_list = [x for (y,x) in sorted(zip(fit.scores_,Data.columns.values), reverse=True)]\n",
    "# i = 0\n",
    "# for name in sorted_feature_list:\n",
    "#     i = i + 1\n",
    "#     print(name)"
   ]
  },
  {
   "cell_type": "code",
   "execution_count": null,
   "metadata": {
    "collapsed": false
   },
   "outputs": [],
   "source": [
    "from sklearn.feature_selection import RFE\n",
    "from sklearn.linear_model import Ridge\n",
    "\n",
    "model = Ridge()\n",
    "rfe = RFE(model, 20)\n",
    "fit = rfe.fit(X, Y)\n",
    "print(\"Num Features: \", fit.n_features_)\n",
    "print(\"Selected Features: \", fit.support_)\n",
    "print(\"Feature Ranking: \", fit.ranking_)\n",
    "\n",
    "rel_names = [Data.columns.values[i] for i in range(X.shape[1]) if fit.support_[i]]\n",
    "\n",
    "print(rel_names)\n",
    "\n",
    "\n",
    "\n",
    "# sorted_feature_list = [x for (y,x) in sorted(zip(fit.ranking_,Data.columns.values))]\n",
    "# i = 0\n",
    "# for name in sorted_feature_list:\n",
    "#     i = i + 1\n",
    "#     print( name)"
   ]
  },
  {
   "cell_type": "code",
   "execution_count": 121,
   "metadata": {
    "collapsed": false
   },
   "outputs": [
    {
     "name": "stdout",
     "output_type": "stream",
     "text": [
      "(100000, 56)\n",
      "(100000,)\n",
      "[ 0.121  0.077  0.06   0.045  0.041  0.037  0.034  0.033  0.03   0.027\n",
      "  0.026  0.025  0.023  0.022  0.021  0.02   0.02   0.019  0.019  0.018\n",
      "  0.018  0.018  0.018  0.018  0.017  0.016  0.016  0.015  0.014  0.014\n",
      "  0.012  0.012  0.011  0.01   0.01   0.009  0.008]\n"
     ]
    }
   ],
   "source": [
    "\n",
    "from sklearn.decomposition import PCA\n",
    "# X = training_data[:,0:-5]\n",
    "print (X.shape)\n",
    "# Y = training_data[:,-1]\n",
    "print (Y.shape)\n",
    "pca = PCA(n_components=.95)\n",
    "X_red = pca.fit_transform(X)\n",
    "\n",
    "print(pca.explained_variance_ratio_) \n"
   ]
  },
  {
   "cell_type": "code",
   "execution_count": 126,
   "metadata": {
    "collapsed": false
   },
   "outputs": [],
   "source": [
    "from sklearn import linear_model\n",
    "\n",
    "model = linear_model.BayesianRidge()\n",
    "model.fit(X_red, Y)\n",
    "\n",
    "predictions = []\n",
    "measureds = []\n",
    "for i in range(len(test_sets)):\n",
    "    X_t, Y_t = test_sets[i]\n",
    "    X_t = pca.transform(X_t)\n",
    "    prediction = model.predict(X_t)\n",
    "    prediction = sum(prediction)#scaler_y.inverse_transform(prediction))\n",
    "    measured = sum(Y_t)#scaler_y.inverse_transform(Y_t))\n",
    "    predictions.append(prediction)\n",
    "    measureds.append(measured)\n",
    "    \n",
    "# Y is stilled scaled needs to be inverted to make sense"
   ]
  },
  {
   "cell_type": "code",
   "execution_count": null,
   "metadata": {
    "collapsed": false
   },
   "outputs": [],
   "source": [
    "print(Y)\n",
    "print (predictions)"
   ]
  },
  {
   "cell_type": "code",
   "execution_count": 127,
   "metadata": {
    "collapsed": false
   },
   "outputs": [
    {
     "data": {
      "image/png": "[encoded data removed]",
      "text/plain": [
       "<matplotlib.figure.Figure at 0x14459e80>"
      ]
     },
     "metadata": {},
     "output_type": "display_data"
    }
   ],
   "source": [
    "import matplotlib.pyplot as plt\n",
    "plt.plot(predictions, 'r--')\n",
    "plt.plot(measureds)\n",
    "plt.show()"
   ]
  },
  {
   "cell_type": "code",
   "execution_count": 128,
   "metadata": {
    "collapsed": false
   },
   "outputs": [
    {
     "name": "stdout",
     "output_type": "stream",
     "text": [
      "[[ 1.     0.208]\n",
      " [ 0.208  1.   ]]\n"
     ]
    }
   ],
   "source": [
    "print (np.corrcoef(predictions,measureds))"
   ]
  },
  {
   "cell_type": "code",
   "execution_count": 129,
   "metadata": {
    "collapsed": true
   },
   "outputs": [],
   "source": [
    "from sklearn.neural_network import MLPRegressor\n",
    "\n",
    "mlp = MLPRegressor()\n",
    "\n",
    "mlp.fit(X_red, Y)\n",
    "\n",
    "predictions = []\n",
    "measureds = []\n",
    "for i in range(len(test_sets)):\n",
    "    X_t, Y_t = test_sets[i]\n",
    "    X_t = pca.transform(X_t)\n",
    "    prediction = mlp.predict(X_t)\n",
    "    prediction = sum(prediction)#scaler_y.inverse_transform(prediction))\n",
    "    measured = sum(Y_t)#scaler_y.inverse_transform(Y_t))\n",
    "    predictions.append(prediction)\n",
    "    measureds.append(measured)"
   ]
  },
  {
   "cell_type": "code",
   "execution_count": 130,
   "metadata": {
    "collapsed": false
   },
   "outputs": [
    {
     "data": {
      "image/png": "[encoded data removed]",
      "text/plain": [
       "<matplotlib.figure.Figure at 0x11d1b9e8>"
      ]
     },
     "metadata": {},
     "output_type": "display_data"
    }
   ],
   "source": [
    "plt.plot(predictions, 'r--')\n",
    "plt.plot(measureds)\n",
    "plt.show()"
   ]
  },
  {
   "cell_type": "code",
   "execution_count": 131,
   "metadata": {
    "collapsed": false
   },
   "outputs": [
    {
     "name": "stdout",
     "output_type": "stream",
     "text": [
      "[[ 1.     0.216]\n",
      " [ 0.216  1.   ]]\n"
     ]
    }
   ],
   "source": [
    "print (np.corrcoef(predictions,measureds))"
   ]
  },
  {
   "cell_type": "code",
   "execution_count": null,
   "metadata": {
    "collapsed": true
   },
   "outputs": [],
   "source": []
  }
 ],
 "metadata": {
  "anaconda-cloud": {},
  "kernelspec": {
   "display_name": "Python [conda root]",
   "language": "python",
   "name": "conda-root-py"
  },
  "language_info": {
   "codemirror_mode": {
    "name": "ipython",
    "version": 3
   },
   "file_extension": ".py",
   "mimetype": "text/x-python",
   "name": "python",
   "nbconvert_exporter": "python",
   "pygments_lexer": "ipython3",
   "version": "3.5.2"
  }
 },
 "nbformat": 4,
 "nbformat_minor": 1
}
