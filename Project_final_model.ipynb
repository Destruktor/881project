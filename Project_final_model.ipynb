{
 "cells": [
  {
   "cell_type": "code",
   "execution_count": 72,
   "metadata": {
    "collapsed": false,
    "scrolled": true
   },
   "outputs": [],
   "source": [
    "from sklearn import preprocessing\n",
    "import numpy as np\n",
    "from numpy import genfromtxt\n",
    "import pandas as pd\n",
    "\n",
    "Data = pd.read_csv('training_data_2016.csv',low_memory = False)\n",
    "\n",
    "# Drop unneccessary columns #\n",
    "\n",
    "Data = Data.drop('Vehicle_Annual_Miles', 1)\n",
    "Data = Data.drop('Vehicle_Comprehensive_Coverage_Limit', 1)\n",
    "Data = Data.drop('Driver_Minimum_Age', 1)\n",
    "Data = Data.drop('Driver_Maximum_Age', 1)\n",
    "Data = Data.drop('EEA_PolicyYear', 1)\n",
    "Data = Data.drop('Vehicle_New_Cost_Amount', 1)\n",
    "Data = Data.drop('Vehicle_Make_Description', 1)\n",
    "Data = Data.drop('EEA_Policy_Zip_Code_3', 1)\n",
    "# Clearing unneccessary rows #\n",
    "\n",
    "Data = Data[Data.EEA_Policy_Tenure != -1]\n",
    "Data = Data[Data.Vehicle_Symbol != -1]\n",
    "Data = Data[Data.Vehicle_Days_Per_Week_Driven != -1]\n",
    "Data = Data[Data.Vehicle_Anti_Theft_Device != 'Unknown']\n",
    "\n",
    "# Replace missing Data #\n",
    "\n",
    "Data['Policy_Zip_Code_Garaging_Location'] = Data['Policy_Zip_Code_Garaging_Location'].replace('Unknown', '00000')\n",
    "Data['Vehicle_Miles_To_Work'] = Data['Vehicle_Miles_To_Work'].replace('-1', np.nan)\n",
    "Data['Vehicle_Passive_Restraint'] = Data['Vehicle_Passive_Restraint'].replace('Unknown', 'Y')\n",
    "# Data['EEA_Policy_Zip_Code_3'] = Data['EEA_Policy_Zip_Code_3'].replace('Unknown', '000')\n",
    "Data['Vehicle_Med_Pay_Limit'] = Data['Vehicle_Med_Pay_Limit'].replace('-1', np.nan)\n",
    "Data['Vehicle_Physical_Damage_Limit'] = Data['Vehicle_Physical_Damage_Limit'].replace('-1', np.nan)\n",
    "Data['Vehicle_Collision_Coverage_Deductible'] = Data['Vehicle_Collision_Coverage_Deductible'].replace('-1', np.nan)\n",
    "# Data['EEA_Prior_Bodily_Injury_Limit'] = Data['EEA_Prior_Bodily_Injury_Limit'].replace('-1', np.nan)\n",
    "# Fill nan data #\n",
    "\n",
    "Data['Vehicle_Miles_To_Work'].fillna((Data['Vehicle_Miles_To_Work'].mean()), inplace=True)\n",
    "Data['Vehicle_Med_Pay_Limit'].fillna((Data['Vehicle_Med_Pay_Limit'].mean()), inplace=True)\n",
    "Data['EEA_Prior_Bodily_Injury_Limit'].fillna('0000', inplace=True)\n",
    "Data['Vehicle_Bodily_Injury_Limit'].fillna('0000', inplace=True)\n",
    "Data['Vehicle_Physical_Damage_Limit'].fillna('0000', inplace=True)\n",
    "Data['Vehicle_Collision_Coverage_Deductible'].fillna('0000', inplace=True)\n",
    "\n",
    "# move to after splitting up data\n",
    "# #Categorizing continuous data #\n",
    "\n",
    "# Data['Vehicle_Miles_To_Work']=pd.cut(Data['Vehicle_Miles_To_Work'], bins=[0, 20,40,60,80,100], include_lowest=True, labels=['lowest', 'low', 'mid', 'high', 'highest'])\n",
    "\n",
    "# Data['Annual_Premium'] = pd.cut(Data['Annual_Premium'],9, include_lowest=True , labels= ['highest', 'very high', 'moderately high', 'higher', 'medium', 'lower', 'moderately low', 'very low', 'lowest'])\n",
    "\n",
    "# Save modified data to new csv file #\n",
    "\n",
    "# Data.to_csv('new_data.csv', sep=',', encoding='utf-8')"
   ]
  },
  {
   "cell_type": "code",
   "execution_count": 73,
   "metadata": {
    "collapsed": false,
    "scrolled": true
   },
   "outputs": [
    {
     "name": "stdout",
     "output_type": "stream",
     "text": [
      "(424341, 60)\n"
     ]
    }
   ],
   "source": [
    "print(Data.shape)"
   ]
  },
  {
   "cell_type": "code",
   "execution_count": 74,
   "metadata": {
    "collapsed": false,
    "scrolled": true
   },
   "outputs": [],
   "source": [
    "# get some training and test data sets\n",
    "category_training_data_size = 100000\n",
    "claims_training_data_size = 200000\n",
    "testing_data_size = 1000\n",
    "number_test_sets = 100\n",
    "\n",
    "# get data with equal number claims and not\n",
    "category_training_data = Data[:category_training_data_size].copy(deep=True)\n",
    "\n",
    "#Categorizing continuous data #\n",
    "\n",
    "category_training_data['Vehicle_Miles_To_Work']=pd.cut(category_training_data['Vehicle_Miles_To_Work'], bins=[0, 20,40,60,80,100], include_lowest=True, labels=['lowest', 'low', 'mid', 'high', 'highest'])\n",
    "\n",
    "category_training_data['Annual_Premium'] = pd.cut(category_training_data['Annual_Premium'],9, include_lowest=True , labels= ['highest', 'very high', 'moderately high', 'higher', 'medium', 'lower', 'moderately low', 'very low', 'lowest'])\n",
    "\n",
    "\n",
    "claims_training_data = Data[category_training_data_size: category_training_data_size + claims_training_data_size].copy(deep=True)\n",
    "claims_training_data = claims_training_data[claims_training_data.Annual_Premium != 0]\n",
    "\n",
    "training_data_size = category_training_data_size + claims_training_data_size\n",
    "test_sets = []\n",
    "for i in range(number_test_sets):\n",
    "    t_set = Data[training_data_size + i * testing_data_size: training_data_size + (i + 1) * testing_data_size].copy(deep=True)\n",
    "    test_sets.append(t_set)"
   ]
  },
  {
   "cell_type": "code",
   "execution_count": 75,
   "metadata": {
    "collapsed": false,
    "scrolled": true
   },
   "outputs": [
    {
     "name": "stdout",
     "output_type": "stream",
     "text": [
      "[ 0.93241135  0.93781124  0.91635665]\n",
      "(100000, 1819)\n",
      "Done!\n"
     ]
    }
   ],
   "source": [
    "# train model to decide claim or not\n",
    "\n",
    "from sklearn.model_selection import cross_val_score\n",
    "from sklearn.tree import DecisionTreeClassifier\n",
    "from scipy.sparse import csc_matrix\n",
    "\n",
    "clf = DecisionTreeClassifier()\n",
    "\n",
    "X_t = category_training_data.ix[:, 0:-5]\n",
    "Y_t = category_training_data.ix[:, -4]\n",
    "\n",
    "for col in X_t[1:]:\n",
    "    X_t[col] = X_t[col].astype('category')\n",
    "\n",
    "X_t = X_t.apply(lambda x: x.cat.codes)\n",
    "Y_t = Y_t.apply(lambda x: 1 if x > 0 else 0)\n",
    "\n",
    "\n",
    "from sklearn.preprocessing import OneHotEncoder\n",
    "enc = OneHotEncoder(handle_unknown='ignore')\n",
    "\n",
    "X_t = enc.fit_transform(X_t)  \n",
    "print(cross_val_score(clf, X_t, Y_t))\n",
    "\n",
    "print(X_t.shape)\n",
    "\n",
    "clf.fit(csc_matrix(X_t), Y_t)\n",
    "\n",
    "print(\"Done!\")\n",
    "\n"
   ]
  },
  {
   "cell_type": "code",
   "execution_count": 76,
   "metadata": {
    "collapsed": false,
    "scrolled": true
   },
   "outputs": [
    {
     "ename": "TypeError",
     "evalue": "A sparse matrix was passed, but dense data is required. Use X.toarray() to convert to a dense numpy array.",
     "output_type": "error",
     "traceback": [
      "\u001b[0;31m---------------------------------------------------------------------------\u001b[0m",
      "\u001b[0;31mTypeError\u001b[0m                                 Traceback (most recent call last)",
      "\u001b[0;32m<ipython-input-76-3242a1b26ffb>\u001b[0m in \u001b[0;36m<module>\u001b[0;34m()\u001b[0m\n\u001b[1;32m     15\u001b[0m \u001b[0mgpc\u001b[0m \u001b[1;33m=\u001b[0m \u001b[0mGaussianProcessClassifier\u001b[0m\u001b[1;33m(\u001b[0m\u001b[0mcopy_X_train\u001b[0m\u001b[1;33m=\u001b[0m\u001b[1;32mFalse\u001b[0m\u001b[1;33m)\u001b[0m\u001b[1;33m\u001b[0m\u001b[0m\n\u001b[1;32m     16\u001b[0m \u001b[1;33m\u001b[0m\u001b[0m\n\u001b[0;32m---> 17\u001b[0;31m \u001b[0mgpc\u001b[0m\u001b[1;33m.\u001b[0m\u001b[0mfit\u001b[0m\u001b[1;33m(\u001b[0m\u001b[0mX_t\u001b[0m\u001b[1;33m,\u001b[0m \u001b[0mY_t\u001b[0m\u001b[1;33m)\u001b[0m\u001b[1;33m\u001b[0m\u001b[0m\n\u001b[0m\u001b[1;32m     18\u001b[0m \u001b[1;33m\u001b[0m\u001b[0m\n\u001b[1;32m     19\u001b[0m \u001b[0mprint\u001b[0m\u001b[1;33m(\u001b[0m\u001b[0mcross_val_score\u001b[0m\u001b[1;33m(\u001b[0m\u001b[0mgpc\u001b[0m\u001b[1;33m,\u001b[0m \u001b[0mX_t\u001b[0m\u001b[1;33m,\u001b[0m \u001b[0mY_t\u001b[0m\u001b[1;33m)\u001b[0m\u001b[1;33m)\u001b[0m\u001b[1;33m\u001b[0m\u001b[0m\n",
      "\u001b[0;32mC:\\Users\\no295d\\AppData\\Local\\Continuum\\Anaconda3\\lib\\site-packages\\sklearn\\gaussian_process\\gpc.py\u001b[0m in \u001b[0;36mfit\u001b[0;34m(self, X, y)\u001b[0m\n\u001b[1;32m    582\u001b[0m         \u001b[0mself\u001b[0m \u001b[1;33m:\u001b[0m \u001b[0mreturns\u001b[0m \u001b[0man\u001b[0m \u001b[0minstance\u001b[0m \u001b[0mof\u001b[0m \u001b[0mself\u001b[0m\u001b[1;33m.\u001b[0m\u001b[1;33m\u001b[0m\u001b[0m\n\u001b[1;32m    583\u001b[0m         \"\"\"\n\u001b[0;32m--> 584\u001b[0;31m         \u001b[0mX\u001b[0m\u001b[1;33m,\u001b[0m \u001b[0my\u001b[0m \u001b[1;33m=\u001b[0m \u001b[0mcheck_X_y\u001b[0m\u001b[1;33m(\u001b[0m\u001b[0mX\u001b[0m\u001b[1;33m,\u001b[0m \u001b[0my\u001b[0m\u001b[1;33m,\u001b[0m \u001b[0mmulti_output\u001b[0m\u001b[1;33m=\u001b[0m\u001b[1;32mFalse\u001b[0m\u001b[1;33m)\u001b[0m\u001b[1;33m\u001b[0m\u001b[0m\n\u001b[0m\u001b[1;32m    585\u001b[0m \u001b[1;33m\u001b[0m\u001b[0m\n\u001b[1;32m    586\u001b[0m         self.base_estimator_ = _BinaryGaussianProcessClassifierLaplace(\n",
      "\u001b[0;32mC:\\Users\\no295d\\AppData\\Local\\Continuum\\Anaconda3\\lib\\site-packages\\sklearn\\utils\\validation.py\u001b[0m in \u001b[0;36mcheck_X_y\u001b[0;34m(X, y, accept_sparse, dtype, order, copy, force_all_finite, ensure_2d, allow_nd, multi_output, ensure_min_samples, ensure_min_features, y_numeric, warn_on_dtype, estimator)\u001b[0m\n\u001b[1;32m    519\u001b[0m     X = check_array(X, accept_sparse, dtype, order, copy, force_all_finite,\n\u001b[1;32m    520\u001b[0m                     \u001b[0mensure_2d\u001b[0m\u001b[1;33m,\u001b[0m \u001b[0mallow_nd\u001b[0m\u001b[1;33m,\u001b[0m \u001b[0mensure_min_samples\u001b[0m\u001b[1;33m,\u001b[0m\u001b[1;33m\u001b[0m\u001b[0m\n\u001b[0;32m--> 521\u001b[0;31m                     ensure_min_features, warn_on_dtype, estimator)\n\u001b[0m\u001b[1;32m    522\u001b[0m     \u001b[1;32mif\u001b[0m \u001b[0mmulti_output\u001b[0m\u001b[1;33m:\u001b[0m\u001b[1;33m\u001b[0m\u001b[0m\n\u001b[1;32m    523\u001b[0m         y = check_array(y, 'csr', force_all_finite=True, ensure_2d=False,\n",
      "\u001b[0;32mC:\\Users\\no295d\\AppData\\Local\\Continuum\\Anaconda3\\lib\\site-packages\\sklearn\\utils\\validation.py\u001b[0m in \u001b[0;36mcheck_array\u001b[0;34m(array, accept_sparse, dtype, order, copy, force_all_finite, ensure_2d, allow_nd, ensure_min_samples, ensure_min_features, warn_on_dtype, estimator)\u001b[0m\n\u001b[1;32m    378\u001b[0m     \u001b[1;32mif\u001b[0m \u001b[0msp\u001b[0m\u001b[1;33m.\u001b[0m\u001b[0missparse\u001b[0m\u001b[1;33m(\u001b[0m\u001b[0marray\u001b[0m\u001b[1;33m)\u001b[0m\u001b[1;33m:\u001b[0m\u001b[1;33m\u001b[0m\u001b[0m\n\u001b[1;32m    379\u001b[0m         array = _ensure_sparse_format(array, accept_sparse, dtype, copy,\n\u001b[0;32m--> 380\u001b[0;31m                                       force_all_finite)\n\u001b[0m\u001b[1;32m    381\u001b[0m     \u001b[1;32melse\u001b[0m\u001b[1;33m:\u001b[0m\u001b[1;33m\u001b[0m\u001b[0m\n\u001b[1;32m    382\u001b[0m         \u001b[0marray\u001b[0m \u001b[1;33m=\u001b[0m \u001b[0mnp\u001b[0m\u001b[1;33m.\u001b[0m\u001b[0marray\u001b[0m\u001b[1;33m(\u001b[0m\u001b[0marray\u001b[0m\u001b[1;33m,\u001b[0m \u001b[0mdtype\u001b[0m\u001b[1;33m=\u001b[0m\u001b[0mdtype\u001b[0m\u001b[1;33m,\u001b[0m \u001b[0morder\u001b[0m\u001b[1;33m=\u001b[0m\u001b[0morder\u001b[0m\u001b[1;33m,\u001b[0m \u001b[0mcopy\u001b[0m\u001b[1;33m=\u001b[0m\u001b[0mcopy\u001b[0m\u001b[1;33m)\u001b[0m\u001b[1;33m\u001b[0m\u001b[0m\n",
      "\u001b[0;32mC:\\Users\\no295d\\AppData\\Local\\Continuum\\Anaconda3\\lib\\site-packages\\sklearn\\utils\\validation.py\u001b[0m in \u001b[0;36m_ensure_sparse_format\u001b[0;34m(spmatrix, accept_sparse, dtype, copy, force_all_finite)\u001b[0m\n\u001b[1;32m    241\u001b[0m     \"\"\"\n\u001b[1;32m    242\u001b[0m     \u001b[1;32mif\u001b[0m \u001b[0maccept_sparse\u001b[0m \u001b[1;32min\u001b[0m \u001b[1;33m[\u001b[0m\u001b[1;32mNone\u001b[0m\u001b[1;33m,\u001b[0m \u001b[1;32mFalse\u001b[0m\u001b[1;33m]\u001b[0m\u001b[1;33m:\u001b[0m\u001b[1;33m\u001b[0m\u001b[0m\n\u001b[0;32m--> 243\u001b[0;31m         raise TypeError('A sparse matrix was passed, but dense '\n\u001b[0m\u001b[1;32m    244\u001b[0m                         \u001b[1;34m'data is required. Use X.toarray() to '\u001b[0m\u001b[1;33m\u001b[0m\u001b[0m\n\u001b[1;32m    245\u001b[0m                         'convert to a dense numpy array.')\n",
      "\u001b[0;31mTypeError\u001b[0m: A sparse matrix was passed, but dense data is required. Use X.toarray() to convert to a dense numpy array."
     ]
    }
   ],
   "source": [
    "\n",
    "from sklearn.gaussian_process import GaussianProcessClassifier\n",
    "\n",
    "X_t = category_training_data.ix[:, 0:-5]\n",
    "Y_t = category_training_data.ix[:, -4]\n",
    "\n",
    "for col in X_t[1:]:\n",
    "    X_t[col] = X_t[col].astype('category')\n",
    "\n",
    "X_t = X_t.apply(lambda x: x.cat.codes)\n",
    "Y_t = Y_t.apply(lambda x: 1 if x > 0 else 0)\n",
    "\n",
    "enc_gp = OneHotEncoder(handle_unknown='ignore')\n",
    "X_t = enc_gp.fit_transform(X_t) \n",
    "gpc = GaussianProcessClassifier(copy_X_train=False)\n",
    "\n",
    "gpc.fit(X_t, Y_t)\n",
    "\n",
    "print(cross_val_score(gpc, X_t, Y_t))"
   ]
  },
  {
   "cell_type": "code",
   "execution_count": null,
   "metadata": {
    "collapsed": false,
    "scrolled": true
   },
   "outputs": [],
   "source": []
  },
  {
   "cell_type": "code",
   "execution_count": null,
   "metadata": {
    "collapsed": false,
    "scrolled": true
   },
   "outputs": [],
   "source": []
  },
  {
   "cell_type": "code",
   "execution_count": null,
   "metadata": {
    "collapsed": false,
    "scrolled": true
   },
   "outputs": [],
   "source": [
    "from scipy.sparse import csr_matrix\n",
    "# print(cross_val_score(clf, X_t, Y_t, cv=10))\n",
    "predictions = []\n",
    "measureds = []\n",
    "for i in range(len(test_sets)):\n",
    "    X_t = test_sets[i].ix[:, 0:-5]\n",
    "    Y_t = test_sets[i].ix[:, -4]\n",
    "    for col in X_t:\n",
    "        X_t[col] = X_t[col].astype('category')\n",
    "    X_t = X_t.apply(lambda x: x.cat.codes)\n",
    "    Y_t = Y_t.apply(lambda x: 1 if x > 0 else 0)\n",
    "    X_t = enc.transform(X_t)\n",
    "    \n",
    "    prediction = clf.predict(csr_matrix(X_t))\n",
    "#     prediction = gpc.predict(X_t)\n",
    "    predictions.append(prediction)\n",
    "    measureds.append(Y_t.values)\n",
    "    \n"
   ]
  },
  {
   "cell_type": "code",
   "execution_count": null,
   "metadata": {
    "collapsed": false,
    "scrolled": true
   },
   "outputs": [],
   "source": [
    "for i in range (len(measureds)):\n",
    "    print('**************************')\n",
    "    print(\"Test set \", i)\n",
    "    t = list(zip( measureds[i], predictions[i]))\n",
    "\n",
    "    correct_claims = [1 if x[0]==x[1] and x[1] else 0 for x in t ]\n",
    "    false_positives = [1 if x[0]!=x[1] and x[1]==1 else 0 for x in t ]\n",
    "    misclass = [1 if x[0]!=x[1] else 0 for x in t ]\n",
    "    print (\"Correct claims:\", sum(correct_claims))\n",
    "    print(\"False positives:\", sum(false_positives))\n",
    "    print(\"Total actual claims:\", sum(measureds[i]))\n",
    "    print(\"Total predicted:\", sum(predictions[i]))\n",
    "    print(\"total micalssed\",i, sum(misclass))"
   ]
  },
  {
   "cell_type": "code",
   "execution_count": null,
   "metadata": {
    "collapsed": false,
    "scrolled": true
   },
   "outputs": [],
   "source": [
    "import matplotlib.pyplot as plt\n",
    "plt.plot(predictions[0][0:50], 'rx')\n",
    "plt.plot(measureds[0][0:50], 'o')\n",
    "plt.show()"
   ]
  },
  {
   "cell_type": "code",
   "execution_count": 77,
   "metadata": {
    "collapsed": false,
    "scrolled": true
   },
   "outputs": [
    {
     "name": "stdout",
     "output_type": "stream",
     "text": [
      "With claims (8906, 60)\n",
      "without (191094, 60)\n",
      "(200000, 60)\n",
      "Done!\n"
     ]
    }
   ],
   "source": [
    "# get scaled data sets\n",
    "from sklearn.preprocessing import StandardScaler  \n",
    "from sklearn.decomposition import PCA\n",
    "from sklearn.pipeline import Pipeline\n",
    "\n",
    "# pca = PCA(n_components=.95)\n",
    "\n",
    "categorical_columns = ['Policy_Company', 'Policy_Installment_Term', 'Policy_Billing_Code', 'Policy_Method_Of_Payment', 'Policy_Reinstatement_Fee_Indicator', 'Policy_Zip_Code_Garaging_Location', 'Vehicle_Performance', 'Vehicle_Number_Of_Drivers_Assigned', 'Vehicle_Usage', 'Vehicle_Anti_Theft_Device', 'Vehicle_Passive_Restraint', 'Vehicle_Med_Pay_Limit', 'Vehicle_Bodily_Injury_Limit', 'Vehicle_Comprehensive_Coverage_Indicator', 'Vehicle_Comprehensive_Coverage_Limit', 'Vehicle_Collision_Coverage_Indicator', 'Vehicle_Collision_Coverage_Deductible', 'Vehicle_Youthful_Driver_Indicator', 'Vehicle_Youthful_Driver_Training_Code', 'Vehicle_Youthful_Good_Student_Code', 'Vehicle_Safe_Driver_Discount_Indicator', 'EEA_Liability_Coverage_Only_Indicator', 'EEA_Multi_Auto_Policies_Indicator', 'EEA_Policy_Zip_Code_3', 'EEA_Agency_Type', 'EEA_Packaged_Policy_Indicator', 'EEA_Full_Coverage_Indicator', 'EEA_Prior_Bodily_Injury_Limit', 'SYS_Renewed', 'SYS_New_Business']\n",
    "\n",
    "for col in claims_training_data.ix[1:]:\n",
    "    if col in categorical_columns:\n",
    "        claims_training_data[col] = claims_training_data[col].astype('category')\n",
    "#     print (Data[col].unique())\n",
    "#     print Data[col].columns\n",
    "#print Data[1].unique()\n",
    "#print list(Data.columns.values)\n",
    "#print(Data.head())\n",
    "cat_columns = claims_training_data.select_dtypes(['category']).columns\n",
    "# print(\"OBJECT:\",claims_training_data.select_dtypes(['object']).columns)\n",
    "# print(\"CAT Columns\",cat_columns)\n",
    "claims_training_data[cat_columns] = claims_training_data[cat_columns].apply(lambda x: x.cat.codes)\n",
    "\n",
    "claims_training_data_with_claim = claims_training_data[claims_training_data.Claim_Count > 0]\n",
    "claims_training_data_without_claims = claims_training_data[claims_training_data.Claim_Count == 0]\n",
    "claims_training_data = claims_training_data_with_claim.append(claims_training_data_without_claims.ix[:4*len(claims_training_data_without_claims)])\n",
    "print(\"With claims\", claims_training_data_with_claim.shape)\n",
    "print(\"without\", claims_training_data_without_claims.shape)\n",
    "print(claims_training_data.shape)\n",
    "\n",
    "X = claims_training_data.ix[:,0:-5]\n",
    "losses = claims_training_data.ix[:,-4]\n",
    "Y = losses#np.divide(losses, premium)\n",
    "# scaler_x = StandardScaler()  \n",
    "# print(X)\n",
    "# X = pca.fit_transform(X)\n",
    "# print(\"X after pca\", X)\n",
    "# X = scaler_x.fit_transform(X)  \n",
    "\n",
    "pipeline = Pipeline([('scaling', StandardScaler()), ('pca', PCA(n_components=.95))])\n",
    "\n",
    "X = pipeline.fit_transform(X)\n",
    "\n",
    "# print(sum(pca.explained_variance_ratio_), X)\n",
    "\n",
    "from sklearn.neural_network import MLPRegressor\n",
    "\n",
    "mlp = MLPRegressor(max_iter=1000, hidden_layer_sizes=(100, 100, 100))\n",
    "\n",
    "mlp.fit(X, Y)\n",
    "\n",
    "# predictions = []\n",
    "# measureds = []\n",
    "# scores = []\n",
    "# for i in range(len(test_sets)):\n",
    "#     X_t = test_sets[i].ix[:,0:-5]\n",
    "#     Y_t = test_sets[i].ix[:,-4]\n",
    "#     premium = sum(X_t.ix[:,-1])\n",
    "#     for col in X_t.ix[1:]:\n",
    "#         if col in categorical_columns:\n",
    "#             X_t[col] = X_t[col].astype('category')\n",
    "#     X_t[cat_columns] = X_t[cat_columns].apply(lambda x: x.cat.codes)\n",
    "# #     X_t = pca.transform(X_t)\n",
    "#     X_t = scaler_x.transform(X_t)\n",
    "#     prediction = mlp.predict(X_t)\n",
    "#     prediction = sum(prediction)#scaler_y.inverse_transform(prediction))\n",
    "#     measured = sum(Y_t)#scaler_y.inverse_transform(Y_t))\n",
    "#     score = mlp.score(X_t, Y_t)\n",
    "# #     print(prediction, premium, prediction / premium)\n",
    "#     predictions.append(prediction / premium)\n",
    "#     measureds.append(measured / premium)\n",
    "#     scores.append(score)\n",
    "\n",
    "print(\"Done!\")"
   ]
  },
  {
   "cell_type": "code",
   "execution_count": null,
   "metadata": {
    "collapsed": false,
    "scrolled": true
   },
   "outputs": [],
   "source": [
    "plt.plot(predictions, 'r--')\n",
    "plt.plot(measureds)\n",
    "plt.show()"
   ]
  },
  {
   "cell_type": "code",
   "execution_count": 13,
   "metadata": {
    "collapsed": false,
    "scrolled": true
   },
   "outputs": [
    {
     "name": "stdout",
     "output_type": "stream",
     "text": [
      "[[ 1.          0.22416466]\n",
      " [ 0.22416466  1.        ]]\n"
     ]
    }
   ],
   "source": [
    "print (np.corrcoef(predictions,measureds))"
   ]
  },
  {
   "cell_type": "code",
   "execution_count": 78,
   "metadata": {
    "collapsed": false,
    "scrolled": false
   },
   "outputs": [
    {
     "name": "stdout",
     "output_type": "stream",
     "text": [
      "Done!\n"
     ]
    }
   ],
   "source": [
    "# run both models\n",
    "\n",
    "#get classifications\n",
    "\n",
    "predicted_claims = []\n",
    "measureds = []\n",
    "for i in range(len(test_sets)):\n",
    "    X_t = test_sets[i].ix[:, 0:-5]\n",
    "    Y_t = test_sets[i].ix[:, -4]\n",
    "    for col in X_t:\n",
    "        X_t[col] = X_t[col].astype('category')\n",
    "    X_t = X_t.apply(lambda x: x.cat.codes)\n",
    "    Y_t = Y_t.apply(lambda x: 1 if x > 0 else 0)\n",
    "    X_t = enc.transform(X_t)\n",
    "#     X_t = t_svd.transform(X_t)\n",
    "    prediction = clf.predict(X_t)\n",
    "    predicted_claims.append(prediction)\n",
    "    measureds.append(Y_t.values)\n",
    "    \n",
    "# grab each record that will likely have a claim and predict    \n",
    "\n",
    "\n",
    "predictions = []\n",
    "measureds = []\n",
    "scores = []\n",
    "for i in range(len(test_sets)):\n",
    "    \n",
    "    X_t = test_sets[i].ix[:,0:-5]\n",
    "    Y_t = test_sets[i].ix[:,-4]\n",
    "    premium = sum(X_t.ix[:,-1])\n",
    "    \n",
    "    for j in predicted_claims[i]:\n",
    "        if j == 0:\n",
    "            X_t.drop(X_t.index[j], inplace=True)\n",
    "            Y_t.drop(Y_t.index[j], inplace=True)\n",
    "            \n",
    "    for col in X_t.ix[1:]:\n",
    "        if col in categorical_columns:\n",
    "            X_t[col] = X_t[col].astype('category')\n",
    "    X_t[cat_columns] = X_t[cat_columns].apply(lambda x: x.cat.codes)\n",
    "#     X_t = pca.transform(X_t)\n",
    "#     X_t = scaler_x.transform(X_t)\n",
    "    X_t = pipeline.transform(X_t)\n",
    "    prediction = mlp.predict(X_t)\n",
    "    prediction = sum(prediction)\n",
    "    measured = sum(Y_t)\n",
    "    score = mlp.score(X_t, Y_t)\n",
    "    \n",
    "    predictions.append(prediction / premium)\n",
    "    measureds.append(measured / premium)\n",
    "    scores.append(score)\n",
    "\n",
    "print(\"Done!\")\n"
   ]
  },
  {
   "cell_type": "code",
   "execution_count": 79,
   "metadata": {
    "collapsed": false,
    "scrolled": true
   },
   "outputs": [
    {
     "data": {
      "image/png": "[encoded data removed]",
      "text/plain": [
       "<matplotlib.figure.Figure at 0xcfd62e8>"
      ]
     },
     "metadata": {},
     "output_type": "display_data"
    }
   ],
   "source": [
    "plt.plot(predictions, 'r--')#(np.divide(predictions, 10), 'r--')\n",
    "plt.plot(measureds)\n",
    "plt.show()"
   ]
  },
  {
   "cell_type": "code",
   "execution_count": 80,
   "metadata": {
    "collapsed": false,
    "scrolled": true
   },
   "outputs": [
    {
     "name": "stdout",
     "output_type": "stream",
     "text": [
      "[[ 1.          0.71163559]\n",
      " [ 0.71163559  1.        ]]\n"
     ]
    }
   ],
   "source": [
    "print (np.corrcoef(predictions,measureds))"
   ]
  },
  {
   "cell_type": "code",
   "execution_count": null,
   "metadata": {
    "collapsed": true,
    "scrolled": true
   },
   "outputs": [],
   "source": []
  }
 ],
 "metadata": {
  "anaconda-cloud": {},
  "kernelspec": {
   "display_name": "Python [conda root]",
   "language": "python",
   "name": "conda-root-py"
  },
  "language_info": {
   "codemirror_mode": {
    "name": "ipython",
    "version": 3
   },
   "file_extension": ".py",
   "mimetype": "text/x-python",
   "name": "python",
   "nbconvert_exporter": "python",
   "pygments_lexer": "ipython3",
   "version": "3.5.2"
  }
 },
 "nbformat": 4,
 "nbformat_minor": 1
}
